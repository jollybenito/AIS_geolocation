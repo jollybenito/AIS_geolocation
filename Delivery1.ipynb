{
 "cells": [
  {
   "cell_type": "markdown",
   "id": "faaaecd1-59b0-4333-b0cb-07fec1f48bad",
   "metadata": {},
   "source": [
    "### Let's get started:"
   ]
  },
  {
   "cell_type": "markdown",
   "id": "9f58b186-3d1b-44b5-a9e4-41321925eabb",
   "metadata": {},
   "source": [
    "# Step 0: Data source"
   ]
  },
  {
   "cell_type": "markdown",
   "id": "eb4c559f-2a4c-4a98-9041-a3dd9d057556",
   "metadata": {},
   "source": [
    "The data source comes from kaggle's user BwandoWando. And you can find it here: https://www.kaggle.com/discussions/accomplishments/514061\n",
    "It consists of a collection of National Oceanic and Atmospheric Administration. The data available varies from Maritime Mobile Service Identity (MMSI) to MMSI, so I just focused on the basics ('LAT', 'LON', 'SOG', 'COG', 'Heading') for a consistent application."
   ]
  },
  {
   "cell_type": "markdown",
   "id": "c8258bfb-5457-4def-b4b5-029a7c9c8c6c",
   "metadata": {},
   "source": [
    "## Step 0.1: PRE-Preprocessing, Ignore for now."
   ]
  },
  {
   "cell_type": "markdown",
   "id": "1028ff75-aeb0-4098-8e87-cc497a4bbc30",
   "metadata": {},
   "source": [
    "For preprocessing I split the data into MSSI cases for a lighter computing workload. For a deeper version I would use multiple vessels to improve performance as well as to decrease bias."
   ]
  },
  {
   "cell_type": "markdown",
   "id": "91b3b1d9-1cbe-47d9-be3d-68e8661ef137",
   "metadata": {},
   "source": [
    "import os\n",
    "list1 = [129129903, 209920000,212259000,215567000,241454000]\n",
    "for x in list1:\n",
    "    j = 0\n",
    "    for root, dirs, files in os.walk(\"/Volumes/KINGSTON/Personal Works/Doctoral Thesis Point 1/Data/\", topdown=False):\n",
    "        i = 0\n",
    "        for name in files:\n",
    "            df1 = pd.read_parquet(os.path.join(root, name), engine='pyarrow')\n",
    "            df1 = df[df.MMSI == x]\n",
    "            #del(df)\n",
    "            if i == 0:\n",
    "                df2 = df1.copy()\n",
    "            else:\n",
    "                df2 = pd.concat([df2, df1])\n",
    "            i = i + 1\n",
    "            del(df1)  \n",
    "        df2.to_csv(\"2023_AIS_Vessel_\" + str(x) + \".csv\")\n",
    "    if j == 0:\n",
    "        df_all = df2.copy()\n",
    "    else:\n",
    "        df_all = pd.concat([df_all, df2])\n",
    "    j = j + 1\n",
    "df_all.to_csv(\"2023_AIS_Vessel_all.csv\")"
   ]
  },
  {
   "cell_type": "markdown",
   "id": "77880b34-d7fd-42b2-b193-99d6bd53140a",
   "metadata": {},
   "source": [
    "# Step 1: Requirements"
   ]
  },
  {
   "cell_type": "markdown",
   "id": "a07d563c-c8e1-4e4c-995d-fe661cfb41a9",
   "metadata": {},
   "source": [
    "Read libraries, set random seeds to get reproducibility and print main libraries versions for version clarity"
   ]
  },
  {
   "cell_type": "code",
   "execution_count": 9,
   "id": "6ca1f999-5535-455e-920f-ef4be502f1e0",
   "metadata": {},
   "outputs": [
    {
     "name": "stdout",
     "output_type": "stream",
     "text": [
      "Tensorflow Version: 2.16.2\n",
      "Pandas Version: 2.2.2\n",
      "Numpy Version: 1.26.4\n",
      "System Version: 3.12.7 | packaged by Anaconda, Inc. | (main, Oct  4 2024, 08:22:19) [Clang 14.0.6 ]\n"
     ]
    }
   ],
   "source": [
    "# Libraries\n",
    "import tensorflow as tf\n",
    "from tensorflow.keras.callbacks import CSVLogger, EarlyStopping\n",
    "import matplotlib as mpl\n",
    "import matplotlib.pyplot as plt\n",
    "import numpy as np\n",
    "import os\n",
    "import pandas as pd\n",
    "import seaborn as sns\n",
    "import time\n",
    "import gc\n",
    "import sys\n",
    "from tensorflow.keras.layers import *\n",
    "from tensorflow.keras.models import Sequential\n",
    "from sklearn.model_selection import train_test_split\n",
    "import plotly.graph_objects as go\n",
    "\n",
    "\n",
    "# Reproducibility\n",
    "SEED = 13\n",
    "tf.random.set_seed(SEED)\n",
    "TRAIN_SPLIT = 30000\n",
    "\n",
    "#Print main libraries version\n",
    "print(f\"Tensorflow Version: {tf.__version__}\")\n",
    "print(f\"Pandas Version: {pd.__version__}\")\n",
    "print(f\"Numpy Version: {np.__version__}\")\n",
    "print(f\"System Version: {sys.version}\")"
   ]
  },
  {
   "cell_type": "code",
   "execution_count": 10,
   "id": "f0385e75-6edf-4dd0-9861-1ef619062ba5",
   "metadata": {},
   "outputs": [],
   "source": [
    "# Count execution time to determine training time\n",
    "notebookstart= time.time()"
   ]
  },
  {
   "cell_type": "markdown",
   "id": "71dadac2-cc07-4d40-9dca-63501c78571e",
   "metadata": {},
   "source": [
    "# Step 2: Data prep"
   ]
  },
  {
   "cell_type": "markdown",
   "id": "2b0971c3-f3c4-42c5-895f-d1a745ba09fe",
   "metadata": {},
   "source": [
    "The data is subset into just our interested features.\n",
    "\n",
    "Samples are restricted to one per hour for consistency and for less noise. \n",
    "\n",
    "Missing values are dropped."
   ]
  },
  {
   "cell_type": "code",
   "execution_count": 13,
   "id": "caea9865-143a-4aae-bc9e-214fe5b38060",
   "metadata": {},
   "outputs": [],
   "source": [
    "df = pd.read_csv('2023_AIS_Vessel_209920000.csv', engine='pyarrow')\n",
    "df.drop_duplicates(subset = ['BaseDateTime'], inplace = True)"
   ]
  },
  {
   "cell_type": "code",
   "execution_count": 14,
   "id": "c0d1e33e-0431-4475-a293-2685a372e83d",
   "metadata": {},
   "outputs": [
    {
     "name": "stderr",
     "output_type": "stream",
     "text": [
      "/var/folders/1c/7zvkcxvj2d52lgxzk8tfs1w00000gn/T/ipykernel_30564/2535658143.py:2: FutureWarning: 'H' is deprecated and will be removed in a future version, please use 'h' instead.\n",
      "  s = pd.Series(pd.date_range(df.BaseDateTime.min().floor('H'), df.BaseDateTime.max().ceil('H'), freq='H'),\n",
      "/var/folders/1c/7zvkcxvj2d52lgxzk8tfs1w00000gn/T/ipykernel_30564/2535658143.py:11: SettingWithCopyWarning: \n",
      "A value is trying to be set on a copy of a slice from a DataFrame\n",
      "\n",
      "See the caveats in the documentation: https://pandas.pydata.org/pandas-docs/stable/user_guide/indexing.html#returning-a-view-versus-a-copy\n",
      "  features.dropna(how = \"any\", inplace = True)\n"
     ]
    }
   ],
   "source": [
    "# Series of hours that span the range of the Index\n",
    "s = pd.Series(pd.date_range(df.BaseDateTime.min().floor('H'), df.BaseDateTime.max().ceil('H'), freq='H'),\n",
    "              name='times').astype('datetime64[s]')\n",
    " \n",
    "df1 = pd.merge_asof(s, df.sort_values('BaseDateTime'), left_on='times', right_on='BaseDateTime', direction='nearest')\n",
    "\n",
    "features = df1[['BaseDateTime', 'LAT', 'LON', 'SOG', 'COG', 'Heading']]\n",
    "features.index = df1['BaseDateTime']\n",
    "\n",
    "# Drop nans to avoid null metrics\n",
    "features.dropna(how = \"any\", inplace = True)"
   ]
  },
  {
   "cell_type": "markdown",
   "id": "c911ab8c-6581-444d-a032-a8ef84bd51bc",
   "metadata": {},
   "source": [
    "## Step 2.1 Normalize data to equal the impact of each feature"
   ]
  },
  {
   "cell_type": "code",
   "execution_count": 17,
   "id": "3f7d47a0-089e-4af0-ab3c-cce784bfe92a",
   "metadata": {},
   "outputs": [],
   "source": [
    "# Select relevant features\n",
    "features = ['LAT', 'LON', 'SOG', 'COG', 'Heading']\n",
    "target = ['LAT', 'LON', 'SOG', 'COG', 'Heading']  # Predict next latitude & longitude\n",
    "\n",
    "# Define sliding window function\n",
    "def create_sequences(data, target, seq_length):\n",
    "    X, y = [], []\n",
    "    for i in range(len(data) - seq_length):\n",
    "        X.append(data[i : i + seq_length])  # Sequence of inputs\n",
    "        y.append(target[i + seq_length])  # Next step as output\n",
    "    return np.array(X), np.array(y)\n",
    "\n",
    "# Define sequence length\n",
    "SEQ_LENGTH = 10\n",
    "\n",
    "# Create input-output pairs\n",
    "X, y = create_sequences(df[features].dropna().values, df[target].dropna().values, SEQ_LENGTH)\n",
    "\n",
    "# Split into train, validation & test sets (0.6, 0.2, 0.2)\n",
    "X_train, X_test, y_train, y_test = train_test_split(X, y, test_size=0.2, random_state=1)\n",
    "\n",
    "X_train, X_val, y_train, y_val = train_test_split(X_train, y_train, test_size=0.25, random_state=1) "
   ]
  },
  {
   "cell_type": "markdown",
   "id": "857f4355-230e-4562-9c68-5b4c37a371a8",
   "metadata": {},
   "source": [
    "# 3. Custom functions"
   ]
  },
  {
   "cell_type": "code",
   "execution_count": 20,
   "id": "e4a007cc-96fd-46cc-bbf2-1037de587b58",
   "metadata": {},
   "outputs": [],
   "source": [
    "### 4.1 Custom loss function\n",
    "# Haversine Distance Function using numpy\n",
    "def haversine_loss(y_true, y_pred):\n",
    "    # Convert degrees to radians using numpy\n",
    "    y_true = tf.cast(y_true, tf.float32)\n",
    "    y_pred = tf.cast(y_pred, tf.float32)\n",
    "    \n",
    "    lat1, lon1, speed1, course1, heading1 = tf.split(y_true, 5, axis=-1)\n",
    "    lat2, lon2, speed2, course2, heading2 = tf.split(y_pred, 5, axis=-1)\n",
    "    \n",
    "    lat1 = lat1 * (tf.constant(3.141592653589793, dtype=tf.float32) / 180.0)\n",
    "    lon1 = lon1 * (tf.constant(3.141592653589793, dtype=tf.float32) / 180.0)\n",
    "    lat2 = lat2 * (tf.constant(3.141592653589793, dtype=tf.float32) / 180.0)\n",
    "    lon2 = lon2 * (tf.constant(3.141592653589793, dtype=tf.float32) / 180.0)\n",
    "\n",
    "    # Haversine formula\n",
    "    dlat = lat2 - lat1\n",
    "    dlon = lon2 - lon1\n",
    "    a = tf.sin(dlat / 2.0) ** 2 + tf.cos(lat1) * tf.cos(lat2) * tf.sin(dlon / 2.0) ** 2\n",
    "    c = 2 * tf.atan2(tf.sqrt(a), tf.sqrt(1 - a))\n",
    "    radius = 6371.0  # Earth's radius in kilometers\n",
    "    haversine_distance = radius * c\n",
    "    return tf.reduce_mean(haversine_distance)\n",
    "    \n",
    "# Combined Loss Function\n",
    "def combined_loss(y_true, y_pred):\n",
    "    haversine = haversine_loss(y_true, y_pred) \n",
    "    mse = tf.reduce_mean(tf.math.square(y_true - y_pred))\n",
    "    return 0.1 * mse + 0.9 * haversine\n",
    "\n",
    "### 4.2 Custom metrics\n",
    "def cumulative_geospatial_error(y_true, y_pred):\n",
    "    # Convert degrees to radians using numpy\n",
    "    y_true = tf.cast(y_true, tf.float32)\n",
    "    y_pred = tf.cast(y_pred, tf.float32)\n",
    " \n",
    "    lat1, lon1, speed1, course1, heading1 = tf.split(y_true, 5, axis=-1)\n",
    "    lat2, lon2, speed2, course2, heading2 = tf.split(y_pred, 5, axis=-1)\n",
    "    \n",
    "    lat1 = lat1 * (tf.constant(3.141592653589793, dtype=tf.float32) / 180.0)\n",
    "    lon1 = lon1 * (tf.constant(3.141592653589793, dtype=tf.float32) / 180.0)\n",
    "    lat2 = lat2 * (tf.constant(3.141592653589793, dtype=tf.float32) / 180.0)\n",
    "    lon2 = lon2 * (tf.constant(3.141592653589793, dtype=tf.float32) / 180.0)\n",
    "\n",
    "    # Haversine formula\n",
    "    dlat = lat2 - lat1\n",
    "    dlon = lon2 - lon1\n",
    "    a = tf.sin(dlat / 2.0) ** 2 + tf.cos(lat1) * tf.cos(lat2) * tf.sin(dlon / 2.0) ** 2\n",
    "    c = 2 * tf.atan2(tf.sqrt(a), tf.sqrt(1 - a))\n",
    "    radius = 6371.0  # Earth's radius in kilometers\n",
    "    haversine_distance = radius * c\n",
    "    return tf.reduce_sum(haversine_distance)\n",
    "\n",
    "def Consistency(y_true, y_pred):\n",
    "    # Convert degrees to radians using numpy\n",
    "    y_true = tf.cast(y_true, tf.float32)\n",
    "    y_pred = tf.cast(y_pred, tf.float32)\n",
    "\n",
    "    lat1, lon1, speed1, course1, heading1 = tf.split(y_true, 5, axis=-1)\n",
    "    lat2, lon2, speed2, course2, heading2 = tf.split(y_pred, 5, axis=-1)\n",
    "        \n",
    "    absolute_error = tf.abs(course1-course2) \n",
    "    return tf.reduce_mean(absolute_error)"
   ]
  },
  {
   "cell_type": "markdown",
   "id": "1afe5080-29d3-49c6-bf33-8421a364d9e9",
   "metadata": {},
   "source": [
    "## 4. Modeling the data"
   ]
  },
  {
   "cell_type": "code",
   "execution_count": 23,
   "id": "86655903-02a7-443b-a98b-5c4e0826d418",
   "metadata": {},
   "outputs": [
    {
     "name": "stdout",
     "output_type": "stream",
     "text": [
      "Epoch 1/20\n",
      "\u001b[1m1545/1545\u001b[0m \u001b[32m━━━━━━━━━━━━━━━━━━━━\u001b[0m\u001b[37m\u001b[0m \u001b[1m12s\u001b[0m 7ms/step - consistency: 174.9691 - cumulative_geospatial_error: 165490.0469 - haversine_loss: 10343.1299 - loss: 11015.4590 - val_consistency: 173.1501 - val_cumulative_geospatial_error: 164532.2344 - val_haversine_loss: 10283.2646 - val_loss: 10935.8154\n",
      "Epoch 2/20\n",
      "\u001b[1m1545/1545\u001b[0m \u001b[32m━━━━━━━━━━━━━━━━━━━━\u001b[0m\u001b[37m\u001b[0m \u001b[1m10s\u001b[0m 6ms/step - consistency: 174.8710 - cumulative_geospatial_error: 164639.6250 - haversine_loss: 10289.9785 - loss: 10965.1035 - val_consistency: 173.0421 - val_cumulative_geospatial_error: 163605.7656 - val_haversine_loss: 10225.3604 - val_loss: 10881.2510\n",
      "Epoch 3/20\n",
      "\u001b[1m1545/1545\u001b[0m \u001b[32m━━━━━━━━━━━━━━━━━━━━\u001b[0m\u001b[37m\u001b[0m \u001b[1m10s\u001b[0m 6ms/step - consistency: 174.7598 - cumulative_geospatial_error: 163670.4688 - haversine_loss: 10229.4062 - loss: 10908.1094 - val_consistency: 172.9202 - val_cumulative_geospatial_error: 162434.2344 - val_haversine_loss: 10152.1396 - val_loss: 10812.5928\n",
      "Epoch 4/20\n",
      "\u001b[1m1545/1545\u001b[0m \u001b[32m━━━━━━━━━━━━━━━━━━━━\u001b[0m\u001b[37m\u001b[0m \u001b[1m11s\u001b[0m 7ms/step - consistency: 174.6343 - cumulative_geospatial_error: 162397.9062 - haversine_loss: 10149.8711 - loss: 10833.5771 - val_consistency: 172.7778 - val_cumulative_geospatial_error: 160760.7188 - val_haversine_loss: 10047.5449 - val_loss: 10714.7383\n",
      "Epoch 5/20\n",
      "\u001b[1m1545/1545\u001b[0m \u001b[32m━━━━━━━━━━━━━━━━━━━━\u001b[0m\u001b[37m\u001b[0m \u001b[1m11s\u001b[0m 7ms/step - consistency: 174.4805 - cumulative_geospatial_error: 160519.4375 - haversine_loss: 10032.4668 - loss: 10723.7695 - val_consistency: 172.5633 - val_cumulative_geospatial_error: 158027.9062 - val_haversine_loss: 9876.7441 - val_loss: 10555.0527\n",
      "Epoch 6/20\n",
      "\u001b[1m1545/1545\u001b[0m \u001b[32m━━━━━━━━━━━━━━━━━━━━\u001b[0m\u001b[37m\u001b[0m \u001b[1m11s\u001b[0m 7ms/step - consistency: 174.2214 - cumulative_geospatial_error: 157309.2500 - haversine_loss: 9831.8291 - loss: 10536.2490 - val_consistency: 172.0862 - val_cumulative_geospatial_error: 152779.6094 - val_haversine_loss: 9548.7256 - val_loss: 10248.9883\n",
      "Epoch 7/20\n",
      "\u001b[1m1545/1545\u001b[0m \u001b[32m━━━━━━━━━━━━━━━━━━━━\u001b[0m\u001b[37m\u001b[0m \u001b[1m12s\u001b[0m 8ms/step - consistency: 173.5618 - cumulative_geospatial_error: 150830.3750 - haversine_loss: 9426.8994 - loss: 10158.6377 - val_consistency: 170.5054 - val_cumulative_geospatial_error: 140886.5781 - val_haversine_loss: 8805.4111 - val_loss: 9557.0303\n",
      "Epoch 8/20\n",
      "\u001b[1m1545/1545\u001b[0m \u001b[32m━━━━━━━━━━━━━━━━━━━━\u001b[0m\u001b[37m\u001b[0m \u001b[1m11s\u001b[0m 7ms/step - consistency: 171.3439 - cumulative_geospatial_error: 135852.8750 - haversine_loss: 8490.8057 - loss: 9288.0693 - val_consistency: 165.5842 - val_cumulative_geospatial_error: 113801.8125 - val_haversine_loss: 7112.6133 - val_loss: 7987.8247\n",
      "Epoch 9/20\n",
      "\u001b[1m1545/1545\u001b[0m \u001b[32m━━━━━━━━━━━━━━━━━━━━\u001b[0m\u001b[37m\u001b[0m \u001b[1m10s\u001b[0m 6ms/step - consistency: 165.0380 - cumulative_geospatial_error: 103088.9375 - haversine_loss: 6443.0591 - loss: 7392.7588 - val_consistency: 154.1094 - val_cumulative_geospatial_error: 62427.3516 - val_haversine_loss: 3901.7095 - val_loss: 5028.4849\n",
      "Epoch 10/20\n",
      "\u001b[1m1545/1545\u001b[0m \u001b[32m━━━━━━━━━━━━━━━━━━━━\u001b[0m\u001b[37m\u001b[0m \u001b[1m10s\u001b[0m 6ms/step - consistency: 151.5582 - cumulative_geospatial_error: 47690.0273 - haversine_loss: 2980.6267 - loss: 4206.3384 - val_consistency: 141.5758 - val_cumulative_geospatial_error: 26005.6016 - val_haversine_loss: 1625.3501 - val_loss: 2924.4963\n",
      "Epoch 11/20\n",
      "\u001b[1m1545/1545\u001b[0m \u001b[32m━━━━━━━━━━━━━━━━━━━━\u001b[0m\u001b[37m\u001b[0m \u001b[1m11s\u001b[0m 7ms/step - consistency: 142.7500 - cumulative_geospatial_error: 24569.2656 - haversine_loss: 1535.5792 - loss: 2853.5718 - val_consistency: 139.6945 - val_cumulative_geospatial_error: 22256.9980 - val_haversine_loss: 1391.0624 - val_loss: 2665.3894\n",
      "Epoch 12/20\n",
      "\u001b[1m1545/1545\u001b[0m \u001b[32m━━━━━━━━━━━━━━━━━━━━\u001b[0m\u001b[37m\u001b[0m \u001b[1m12s\u001b[0m 8ms/step - consistency: 140.6087 - cumulative_geospatial_error: 21216.8750 - haversine_loss: 1326.0548 - loss: 2615.9751 - val_consistency: 136.4876 - val_cumulative_geospatial_error: 19674.7363 - val_haversine_loss: 1229.6710 - val_loss: 2468.8879\n",
      "Epoch 13/20\n",
      "\u001b[1m1545/1545\u001b[0m \u001b[32m━━━━━━━━━━━━━━━━━━━━\u001b[0m\u001b[37m\u001b[0m \u001b[1m12s\u001b[0m 8ms/step - consistency: 136.9405 - cumulative_geospatial_error: 18897.4844 - haversine_loss: 1181.0929 - loss: 2431.4890 - val_consistency: 131.7115 - val_cumulative_geospatial_error: 17766.5273 - val_haversine_loss: 1110.4080 - val_loss: 2302.8806\n",
      "Epoch 14/20\n",
      "\u001b[1m1545/1545\u001b[0m \u001b[32m━━━━━━━━━━━━━━━━━━━━\u001b[0m\u001b[37m\u001b[0m \u001b[1m11s\u001b[0m 7ms/step - consistency: 132.0627 - cumulative_geospatial_error: 17188.7051 - haversine_loss: 1074.2942 - loss: 2275.2959 - val_consistency: 126.8533 - val_cumulative_geospatial_error: 16326.1221 - val_haversine_loss: 1020.3826 - val_loss: 2161.4468\n",
      "Epoch 15/20\n",
      "\u001b[1m1545/1545\u001b[0m \u001b[32m━━━━━━━━━━━━━━━━━━━━\u001b[0m\u001b[37m\u001b[0m \u001b[1m10s\u001b[0m 6ms/step - consistency: 127.2987 - cumulative_geospatial_error: 15888.0244 - haversine_loss: 993.0016 - loss: 2141.7136 - val_consistency: 122.5893 - val_cumulative_geospatial_error: 15253.4990 - val_haversine_loss: 953.3437 - val_loss: 2044.4396\n",
      "Epoch 16/20\n",
      "\u001b[1m1545/1545\u001b[0m \u001b[32m━━━━━━━━━━━━━━━━━━━━\u001b[0m\u001b[37m\u001b[0m \u001b[1m10s\u001b[0m 7ms/step - consistency: 123.1102 - cumulative_geospatial_error: 14934.0107 - haversine_loss: 933.3757 - loss: 2031.9595 - val_consistency: 118.8274 - val_cumulative_geospatial_error: 14465.3740 - val_haversine_loss: 904.0859 - val_loss: 1948.2395\n",
      "Epoch 17/20\n",
      "\u001b[1m1545/1545\u001b[0m \u001b[32m━━━━━━━━━━━━━━━━━━━━\u001b[0m\u001b[37m\u001b[0m \u001b[1m10s\u001b[0m 6ms/step - consistency: 119.3673 - cumulative_geospatial_error: 14198.4004 - haversine_loss: 887.4001 - loss: 1938.6036 - val_consistency: 115.3586 - val_cumulative_geospatial_error: 13776.9121 - val_haversine_loss: 861.0570 - val_loss: 1859.0680\n",
      "Epoch 18/20\n",
      "\u001b[1m1545/1545\u001b[0m \u001b[32m━━━━━━━━━━━━━━━━━━━━\u001b[0m\u001b[37m\u001b[0m \u001b[1m10s\u001b[0m 7ms/step - consistency: 115.9066 - cumulative_geospatial_error: 13544.6719 - haversine_loss: 846.5421 - loss: 1851.2678 - val_consistency: 112.0943 - val_cumulative_geospatial_error: 13152.9072 - val_haversine_loss: 822.0567 - val_loss: 1775.4371\n",
      "Epoch 19/20\n",
      "\u001b[1m1545/1545\u001b[0m \u001b[32m━━━━━━━━━━━━━━━━━━━━\u001b[0m\u001b[37m\u001b[0m \u001b[1m10s\u001b[0m 6ms/step - consistency: 112.6094 - cumulative_geospatial_error: 12961.8643 - haversine_loss: 810.1166 - loss: 1769.6936 - val_consistency: 108.8784 - val_cumulative_geospatial_error: 12625.6992 - val_haversine_loss: 789.1062 - val_loss: 1698.7369\n",
      "Epoch 20/20\n",
      "\u001b[1m1545/1545\u001b[0m \u001b[32m━━━━━━━━━━━━━━━━━━━━\u001b[0m\u001b[37m\u001b[0m \u001b[1m10s\u001b[0m 6ms/step - consistency: 109.3611 - cumulative_geospatial_error: 12458.9229 - haversine_loss: 778.6828 - loss: 1694.1239 - val_consistency: 105.7301 - val_cumulative_geospatial_error: 12150.6875 - val_haversine_loss: 759.4180 - val_loss: 1626.5724\n",
      "\n",
      "Model Runtime: 3.58 Minutes\n"
     ]
    }
   ],
   "source": [
    "modelstart = time.time()\n",
    "early_stopping = EarlyStopping(monitor=\"loss\", patience = 10, restore_best_weights=True)\n",
    "\n",
    "# Define LSTM Model\n",
    "model = Sequential([\n",
    "    Input(shape=(SEQ_LENGTH, len(features))),  \n",
    "    LSTM(128, activation='tanh', return_sequences=True),\n",
    "    LSTM(64, activation='relu', return_sequences=False),  # Last LSTM layer outputs a single vector\n",
    "    Dense(5)  # Predict next (LAT, LON)\n",
    "])\n",
    "\n",
    "\n",
    "# Compile the model with Nadam optimizer\n",
    "model.compile(\n",
    "    optimizer=tf.keras.optimizers.Nadam(learning_rate=1e-6, clipvalue=1.0),\n",
    "    loss=combined_loss,\n",
    "    metrics=[haversine_loss, cumulative_geospatial_error, Consistency]\n",
    ")\n",
    "print(model.summary())\n",
    "\n",
    "# Train the model\n",
    "model.fit(X_train, y_train, epochs=20, batch_size=16, validation_data=(X_val, y_val), callbacks=[early_stopping])\n",
    "\n",
    "model.save('multi-output-timesteps.keras')\n",
    "print(\"\\nModel Runtime: %0.2f Minutes\"%((time.time() - modelstart)/60))"
   ]
  },
  {
   "cell_type": "markdown",
   "id": "f0202917-4713-4d6e-8533-963e0bb07490",
   "metadata": {},
   "source": [
    "## 4. Predictions and Evaluation"
   ]
  },
  {
   "cell_type": "code",
   "execution_count": 32,
   "id": "abc7b5a0-8557-4d6d-bd28-16f90ae6732c",
   "metadata": {},
   "outputs": [
    {
     "name": "stdout",
     "output_type": "stream",
     "text": [
      "\u001b[1m258/258\u001b[0m \u001b[32m━━━━━━━━━━━━━━━━━━━━\u001b[0m\u001b[37m\u001b[0m \u001b[1m1s\u001b[0m 2ms/step\n"
     ]
    }
   ],
   "source": [
    "prediction = model.predict(X_test)"
   ]
  },
  {
   "cell_type": "code",
   "execution_count": 77,
   "id": "05fe2cd5-b6c5-4b97-ad70-ff3e0b7c2e77",
   "metadata": {},
   "outputs": [
    {
     "name": "stdout",
     "output_type": "stream",
     "text": [
      "The combined loss for the test data is  1638.1918355494176\n",
      "The harvesine loss for the test data is  761.7693\n",
      "The geospatial loss for the test data is  6276979.0\n",
      "The Consistency loss for the test data is  105.77431\n"
     ]
    }
   ],
   "source": [
    "# Combined loss for test data\n",
    "haversine = haversine_loss(y_test, prediction).numpy()\n",
    "mse = tf.reduce_mean(tf.math.square(y_test - prediction))\n",
    "print(\"The combined loss for the test data is \", (0.1 * mse + 0.9 * haversine).numpy())\n",
    "\n",
    "# Evaluations for test data\n",
    "haversine = haversine_loss(y_test, prediction).numpy()\n",
    "print(\"The harvesine loss for the test data is \", haversine)\n",
    "print(\"The geospatial loss for the test data is \", cumulative_geospatial_error(y_test, prediction).numpy())\n",
    "print(\"The Consistency loss for the test data is \", Consistency(y_test, prediction).numpy())"
   ]
  },
  {
   "cell_type": "code",
   "execution_count": 34,
   "id": "4df14177-a320-42dd-93da-6556469de6a5",
   "metadata": {},
   "outputs": [],
   "source": [
    "# Denormalize values before computation\n",
    "true = pd.DataFrame(y_test[:,:2], columns=[\"true_lat\", \"true_lon\"])\n",
    "pred = pd.DataFrame(prediction[:,:2], columns=[\"pred_lat\", \"pred_lon\"])\n",
    "df_pred = pd.concat([true, pred], axis = 1)"
   ]
  },
  {
   "cell_type": "code",
   "execution_count": 153,
   "id": "e384e7c4-475e-46c5-872b-aad2923edce0",
   "metadata": {
    "scrolled": true
   },
   "outputs": [
    {
     "data": {
      "image/png": "[encoded data removed]",
      "text/plain": [
       "<Figure size 1200x600 with 1 Axes>"
      ]
     },
     "metadata": {},
     "output_type": "display_data"
    }
   ],
   "source": [
    "plt.figure(figsize=(12, 6))\n",
    "\n",
    "# Plot latitude over time\n",
    "plt.plot(df_pred.true_lat[:200], label=\"True Latitude\", color='red', linestyle='dashed')\n",
    "plt.plot(df_pred.pred_lat[:200], label=\"Predicted Latitude\", color='blue', linestyle='solid')\n",
    "\n",
    "plt.xlabel(\"Time Steps\")\n",
    "plt.ylabel(\"Latitude\")\n",
    "plt.title(\"Latitude Prediction vs True Values\")\n",
    "plt.legend()\n",
    "plt.savefig(\"Latitude.png\")\n",
    "plt.show()"
   ]
  },
  {
   "cell_type": "code",
   "execution_count": 155,
   "id": "d08ec78d-1a1e-4bda-88f4-38ecdf041bdc",
   "metadata": {},
   "outputs": [
    {
     "data": {
      "image/png": "[encoded data removed]",
      "text/plain": [
       "<Figure size 1200x600 with 1 Axes>"
      ]
     },
     "metadata": {},
     "output_type": "display_data"
    }
   ],
   "source": [
    "plt.figure(figsize=(12, 6))\n",
    "\n",
    "# Plot latitude over time\n",
    "plt.plot(df_pred.true_lon[:200], label=\"True Longitude\", color='red', linestyle='dashed')\n",
    "plt.plot(df_pred.pred_lon[:200], label=\"Predicted Longitude\", color='blue', linestyle='solid')\n",
    "\n",
    "plt.xlabel(\"Time Steps\")\n",
    "plt.ylabel(\"Longitude\")\n",
    "plt.title(\"Longitude Prediction vs True Values\")\n",
    "plt.legend()\n",
    "plt.savefig(\"Longitude.png\")\n",
    "plt.show()"
   ]
  },
  {
   "cell_type": "code",
   "execution_count": 93,
   "id": "f1cb55b3-bcbc-4101-812c-759bead43b6f",
   "metadata": {},
   "outputs": [
    {
     "data": {
      "image/png": "[encoded data removed]",
      "text/plain": [
       "<Figure size 1200x600 with 1 Axes>"
      ]
     },
     "metadata": {},
     "output_type": "display_data"
    }
   ],
   "source": [
    "plt.figure(figsize=(12, 6))\n",
    "\n",
    "# Plot latitude over time\n",
    "plt.scatter(df_pred.true_lon[:20], df_pred.true_lat[:20], label=\"True Longitude\", color='red', marker='x')\n",
    "plt.scatter(df_pred.pred_lon[:20], df_pred.pred_lat[:20], label=\"Predicted Longitude\", color='blue', marker = 'o')\n",
    "\n",
    "plt.xlabel(\"Latitude\")\n",
    "plt.ylabel(\"Longitude\")\n",
    "plt.title(\"Coordinates Prediction vs True Values\")\n",
    "plt.legend()\n",
    "plt.show()"
   ]
  },
  {
   "cell_type": "code",
   "execution_count": 137,
   "id": "e7117cb6-f8cc-4399-b2ab-9f90f2cc0550",
   "metadata": {},
   "outputs": [
    {
     "data": {
      "application/vnd.plotly.v1+json": {
       "config": {
        "plotlyServerURL": "https://plot.ly"
       },
       "data": [
        {
         "marker": {
          "color": "red",
          "size": 10
         },
         "mode": "markers",
         "name": "True Position",
         "type": "scatter",
         "x": [
          -94.50133
         ],
         "y": [
          29.18028
         ]
        },
        {
         "marker": {
          "color": "blue",
          "size": 10
         },
         "mode": "markers",
         "name": "Predicted Position",
         "type": "scatter",
         "x": [
          -99.12095642089844
         ],
         "y": [
          30.18269157409668
         ]
        }
       ],
       "frames": [
        {
         "data": [
          {
           "marker": {
            "color": "red",
            "size": 10
           },
           "mode": "markers",
           "type": "scatter",
           "x": [
            -92.7527
           ],
           "y": [
            28.0556
           ]
          },
          {
           "marker": {
            "color": "blue",
            "size": 10
           },
           "mode": "markers",
           "type": "scatter",
           "x": [
            -90.7848129272461
           ],
           "y": [
            28.721168518066406
           ]
          }
         ],
         "name": "0"
        },
        {
         "data": [
          {
           "marker": {
            "color": "red",
            "size": 10
           },
           "mode": "markers",
           "type": "scatter",
           "x": [
            -94.33553
           ],
           "y": [
            28.8676
           ]
          },
          {
           "marker": {
            "color": "blue",
            "size": 10
           },
           "mode": "markers",
           "type": "scatter",
           "x": [
            -89.29096984863281
           ],
           "y": [
            29.217023849487305
           ]
          }
         ],
         "name": "1"
        },
        {
         "data": [
          {
           "marker": {
            "color": "red",
            "size": 10
           },
           "mode": "markers",
           "type": "scatter",
           "x": [
            -89.99292
           ],
           "y": [
            29.83298
           ]
          },
          {
           "marker": {
            "color": "blue",
            "size": 10
           },
           "mode": "markers",
           "type": "scatter",
           "x": [
            -88.79449462890625
           ],
           "y": [
            29.172731399536133
           ]
          }
         ],
         "name": "2"
        },
        {
         "data": [
          {
           "marker": {
            "color": "red",
            "size": 10
           },
           "mode": "markers",
           "type": "scatter",
           "x": [
            -88.0243
           ],
           "y": [
            30.54337
           ]
          },
          {
           "marker": {
            "color": "blue",
            "size": 10
           },
           "mode": "markers",
           "type": "scatter",
           "x": [
            -86.96147918701172
           ],
           "y": [
            29.019359588623047
           ]
          }
         ],
         "name": "3"
        },
        {
         "data": [
          {
           "marker": {
            "color": "red",
            "size": 10
           },
           "mode": "markers",
           "type": "scatter",
           "x": [
            -88.03375
           ],
           "y": [
            30.66947
           ]
          },
          {
           "marker": {
            "color": "blue",
            "size": 10
           },
           "mode": "markers",
           "type": "scatter",
           "x": [
            -89.41268920898438
           ],
           "y": [
            29.89037322998047
           ]
          }
         ],
         "name": "4"
        },
        {
         "data": [
          {
           "marker": {
            "color": "red",
            "size": 10
           },
           "mode": "markers",
           "type": "scatter",
           "x": [
            -94.53358
           ],
           "y": [
            28.99312
           ]
          },
          {
           "marker": {
            "color": "blue",
            "size": 10
           },
           "mode": "markers",
           "type": "scatter",
           "x": [
            -93.40404510498047
           ],
           "y": [
            30.588157653808594
           ]
          }
         ],
         "name": "5"
        },
        {
         "data": [
          {
           "marker": {
            "color": "red",
            "size": 10
           },
           "mode": "markers",
           "type": "scatter",
           "x": [
            -94.40987
           ],
           "y": [
            28.37232
           ]
          },
          {
           "marker": {
            "color": "blue",
            "size": 10
           },
           "mode": "markers",
           "type": "scatter",
           "x": [
            -87.20050048828125
           ],
           "y": [
            29.945253372192383
           ]
          }
         ],
         "name": "6"
        },
        {
         "data": [
          {
           "marker": {
            "color": "red",
            "size": 10
           },
           "mode": "markers",
           "type": "scatter",
           "x": [
            -85.14353
           ],
           "y": [
            24.33993
           ]
          },
          {
           "marker": {
            "color": "blue",
            "size": 10
           },
           "mode": "markers",
           "type": "scatter",
           "x": [
            -92.96524047851562
           ],
           "y": [
            28.258832931518555
           ]
          }
         ],
         "name": "7"
        },
        {
         "data": [
          {
           "marker": {
            "color": "red",
            "size": 10
           },
           "mode": "markers",
           "type": "scatter",
           "x": [
            -88.68017
           ],
           "y": [
            28.65548
           ]
          },
          {
           "marker": {
            "color": "blue",
            "size": 10
           },
           "mode": "markers",
           "type": "scatter",
           "x": [
            -92.2429428100586
           ],
           "y": [
            29.04613494873047
           ]
          }
         ],
         "name": "8"
        },
        {
         "data": [
          {
           "marker": {
            "color": "red",
            "size": 10
           },
           "mode": "markers",
           "type": "scatter",
           "x": [
            -94.03017
           ],
           "y": [
            28.86477
           ]
          },
          {
           "marker": {
            "color": "blue",
            "size": 10
           },
           "mode": "markers",
           "type": "scatter",
           "x": [
            -102.96835327148438
           ],
           "y": [
            30.20401382446289
           ]
          }
         ],
         "name": "9"
        },
        {
         "data": [
          {
           "marker": {
            "color": "red",
            "size": 10
           },
           "mode": "markers",
           "type": "scatter",
           "x": [
            -93.9699
           ],
           "y": [
            28.84627
           ]
          },
          {
           "marker": {
            "color": "blue",
            "size": 10
           },
           "mode": "markers",
           "type": "scatter",
           "x": [
            -103.07125091552734
           ],
           "y": [
            30.28438377380371
           ]
          }
         ],
         "name": "10"
        },
        {
         "data": [
          {
           "marker": {
            "color": "red",
            "size": 10
           },
           "mode": "markers",
           "type": "scatter",
           "x": [
            -94.50133
           ],
           "y": [
            29.18028
           ]
          },
          {
           "marker": {
            "color": "blue",
            "size": 10
           },
           "mode": "markers",
           "type": "scatter",
           "x": [
            -99.12095642089844
           ],
           "y": [
            30.18269157409668
           ]
          }
         ],
         "name": "11"
        },
        {
         "data": [
          {
           "marker": {
            "color": "red",
            "size": 10
           },
           "mode": "markers",
           "type": "scatter",
           "x": [
            -95.00862
           ],
           "y": [
            29.61253
           ]
          },
          {
           "marker": {
            "color": "blue",
            "size": 10
           },
           "mode": "markers",
           "type": "scatter",
           "x": [
            -96.50184631347656
           ],
           "y": [
            29.0385799407959
           ]
          }
         ],
         "name": "12"
        },
        {
         "data": [
          {
           "marker": {
            "color": "red",
            "size": 10
           },
           "mode": "markers",
           "type": "scatter",
           "x": [
            -94.59772
           ],
           "y": [
            29.17852
           ]
          },
          {
           "marker": {
            "color": "blue",
            "size": 10
           },
           "mode": "markers",
           "type": "scatter",
           "x": [
            -91.96288299560547
           ],
           "y": [
            27.793304443359375
           ]
          }
         ],
         "name": "13"
        },
        {
         "data": [
          {
           "marker": {
            "color": "red",
            "size": 10
           },
           "mode": "markers",
           "type": "scatter",
           "x": [
            -89.38718
           ],
           "y": [
            28.9636
           ]
          },
          {
           "marker": {
            "color": "blue",
            "size": 10
           },
           "mode": "markers",
           "type": "scatter",
           "x": [
            -90.61292266845703
           ],
           "y": [
            29.258331298828125
           ]
          }
         ],
         "name": "14"
        },
        {
         "data": [
          {
           "marker": {
            "color": "red",
            "size": 10
           },
           "mode": "markers",
           "type": "scatter",
           "x": [
            -87.76232
           ],
           "y": [
            29.80252
           ]
          },
          {
           "marker": {
            "color": "blue",
            "size": 10
           },
           "mode": "markers",
           "type": "scatter",
           "x": [
            -91.75806427001953
           ],
           "y": [
            28.340980529785156
           ]
          }
         ],
         "name": "15"
        },
        {
         "data": [
          {
           "marker": {
            "color": "red",
            "size": 10
           },
           "mode": "markers",
           "type": "scatter",
           "x": [
            -80.15047
           ],
           "y": [
            25.76593
           ]
          },
          {
           "marker": {
            "color": "blue",
            "size": 10
           },
           "mode": "markers",
           "type": "scatter",
           "x": [
            -91.10003662109375
           ],
           "y": [
            27.444381713867188
           ]
          }
         ],
         "name": "16"
        },
        {
         "data": [
          {
           "marker": {
            "color": "red",
            "size": 10
           },
           "mode": "markers",
           "type": "scatter",
           "x": [
            -94.33572
           ],
           "y": [
            28.8682
           ]
          },
          {
           "marker": {
            "color": "blue",
            "size": 10
           },
           "mode": "markers",
           "type": "scatter",
           "x": [
            -96.27437591552734
           ],
           "y": [
            31.207069396972656
           ]
          }
         ],
         "name": "17"
        },
        {
         "data": [
          {
           "marker": {
            "color": "red",
            "size": 10
           },
           "mode": "markers",
           "type": "scatter",
           "x": [
            -83.38428
           ],
           "y": [
            23.74772
           ]
          },
          {
           "marker": {
            "color": "blue",
            "size": 10
           },
           "mode": "markers",
           "type": "scatter",
           "x": [
            -93.35269927978516
           ],
           "y": [
            26.109994888305664
           ]
          }
         ],
         "name": "18"
        },
        {
         "data": [
          {
           "marker": {
            "color": "red",
            "size": 10
           },
           "mode": "markers",
           "type": "scatter",
           "x": [
            -89.32587
           ],
           "y": [
            28.89452
           ]
          },
          {
           "marker": {
            "color": "blue",
            "size": 10
           },
           "mode": "markers",
           "type": "scatter",
           "x": [
            -66.63522338867188
           ],
           "y": [
            24.776845932006836
           ]
          }
         ],
         "name": "19"
        }
       ],
       "layout": {
        "autosize": true,
        "sliders": [
         {
          "active": 11,
          "steps": [
           {
            "args": [
             [
              "0"
             ],
             {
              "frame": {
               "duration": 0
              },
              "mode": "immediate",
              "redraw": true
             }
            ],
            "label": "0",
            "method": "animate"
           },
           {
            "args": [
             [
              "1"
             ],
             {
              "frame": {
               "duration": 0
              },
              "mode": "immediate",
              "redraw": true
             }
            ],
            "label": "1",
            "method": "animate"
           },
           {
            "args": [
             [
              "2"
             ],
             {
              "frame": {
               "duration": 0
              },
              "mode": "immediate",
              "redraw": true
             }
            ],
            "label": "2",
            "method": "animate"
           },
           {
            "args": [
             [
              "3"
             ],
             {
              "frame": {
               "duration": 0
              },
              "mode": "immediate",
              "redraw": true
             }
            ],
            "label": "3",
            "method": "animate"
           },
           {
            "args": [
             [
              "4"
             ],
             {
              "frame": {
               "duration": 0
              },
              "mode": "immediate",
              "redraw": true
             }
            ],
            "label": "4",
            "method": "animate"
           },
           {
            "args": [
             [
              "5"
             ],
             {
              "frame": {
               "duration": 0
              },
              "mode": "immediate",
              "redraw": true
             }
            ],
            "label": "5",
            "method": "animate"
           },
           {
            "args": [
             [
              "6"
             ],
             {
              "frame": {
               "duration": 0
              },
              "mode": "immediate",
              "redraw": true
             }
            ],
            "label": "6",
            "method": "animate"
           },
           {
            "args": [
             [
              "7"
             ],
             {
              "frame": {
               "duration": 0
              },
              "mode": "immediate",
              "redraw": true
             }
            ],
            "label": "7",
            "method": "animate"
           },
           {
            "args": [
             [
              "8"
             ],
             {
              "frame": {
               "duration": 0
              },
              "mode": "immediate",
              "redraw": true
             }
            ],
            "label": "8",
            "method": "animate"
           },
           {
            "args": [
             [
              "9"
             ],
             {
              "frame": {
               "duration": 0
              },
              "mode": "immediate",
              "redraw": true
             }
            ],
            "label": "9",
            "method": "animate"
           },
           {
            "args": [
             [
              "10"
             ],
             {
              "frame": {
               "duration": 0
              },
              "mode": "immediate",
              "redraw": true
             }
            ],
            "label": "10",
            "method": "animate"
           },
           {
            "args": [
             [
              "11"
             ],
             {
              "frame": {
               "duration": 0
              },
              "mode": "immediate",
              "redraw": true
             }
            ],
            "label": "11",
            "method": "animate"
           },
           {
            "args": [
             [
              "12"
             ],
             {
              "frame": {
               "duration": 0
              },
              "mode": "immediate",
              "redraw": true
             }
            ],
            "label": "12",
            "method": "animate"
           },
           {
            "args": [
             [
              "13"
             ],
             {
              "frame": {
               "duration": 0
              },
              "mode": "immediate",
              "redraw": true
             }
            ],
            "label": "13",
            "method": "animate"
           },
           {
            "args": [
             [
              "14"
             ],
             {
              "frame": {
               "duration": 0
              },
              "mode": "immediate",
              "redraw": true
             }
            ],
            "label": "14",
            "method": "animate"
           },
           {
            "args": [
             [
              "15"
             ],
             {
              "frame": {
               "duration": 0
              },
              "mode": "immediate",
              "redraw": true
             }
            ],
            "label": "15",
            "method": "animate"
           },
           {
            "args": [
             [
              "16"
             ],
             {
              "frame": {
               "duration": 0
              },
              "mode": "immediate",
              "redraw": true
             }
            ],
            "label": "16",
            "method": "animate"
           },
           {
            "args": [
             [
              "17"
             ],
             {
              "frame": {
               "duration": 0
              },
              "mode": "immediate",
              "redraw": true
             }
            ],
            "label": "17",
            "method": "animate"
           },
           {
            "args": [
             [
              "18"
             ],
             {
              "frame": {
               "duration": 0
              },
              "mode": "immediate",
              "redraw": true
             }
            ],
            "label": "18",
            "method": "animate"
           },
           {
            "args": [
             [
              "19"
             ],
             {
              "frame": {
               "duration": 0
              },
              "mode": "immediate",
              "redraw": true
             }
            ],
            "label": "19",
            "method": "animate"
           }
          ]
         }
        ],
        "template": {
         "data": {
          "bar": [
           {
            "error_x": {
             "color": "#2a3f5f"
            },
            "error_y": {
             "color": "#2a3f5f"
            },
            "marker": {
             "line": {
              "color": "#E5ECF6",
              "width": 0.5
             },
             "pattern": {
              "fillmode": "overlay",
              "size": 10,
              "solidity": 0.2
             }
            },
            "type": "bar"
           }
          ],
          "barpolar": [
           {
            "marker": {
             "line": {
              "color": "#E5ECF6",
              "width": 0.5
             },
             "pattern": {
              "fillmode": "overlay",
              "size": 10,
              "solidity": 0.2
             }
            },
            "type": "barpolar"
           }
          ],
          "carpet": [
           {
            "aaxis": {
             "endlinecolor": "#2a3f5f",
             "gridcolor": "white",
             "linecolor": "white",
             "minorgridcolor": "white",
             "startlinecolor": "#2a3f5f"
            },
            "baxis": {
             "endlinecolor": "#2a3f5f",
             "gridcolor": "white",
             "linecolor": "white",
             "minorgridcolor": "white",
             "startlinecolor": "#2a3f5f"
            },
            "type": "carpet"
           }
          ],
          "choropleth": [
           {
            "colorbar": {
             "outlinewidth": 0,
             "ticks": ""
            },
            "type": "choropleth"
           }
          ],
          "contour": [
           {
            "colorbar": {
             "outlinewidth": 0,
             "ticks": ""
            },
            "colorscale": [
             [
              0,
              "#0d0887"
             ],
             [
              0.1111111111111111,
              "#46039f"
             ],
             [
              0.2222222222222222,
              "#7201a8"
             ],
             [
              0.3333333333333333,
              "#9c179e"
             ],
             [
              0.4444444444444444,
              "#bd3786"
             ],
             [
              0.5555555555555556,
              "#d8576b"
             ],
             [
              0.6666666666666666,
              "#ed7953"
             ],
             [
              0.7777777777777778,
              "#fb9f3a"
             ],
             [
              0.8888888888888888,
              "#fdca26"
             ],
             [
              1,
              "#f0f921"
             ]
            ],
            "type": "contour"
           }
          ],
          "contourcarpet": [
           {
            "colorbar": {
             "outlinewidth": 0,
             "ticks": ""
            },
            "type": "contourcarpet"
           }
          ],
          "heatmap": [
           {
            "colorbar": {
             "outlinewidth": 0,
             "ticks": ""
            },
            "colorscale": [
             [
              0,
              "#0d0887"
             ],
             [
              0.1111111111111111,
              "#46039f"
             ],
             [
              0.2222222222222222,
              "#7201a8"
             ],
             [
              0.3333333333333333,
              "#9c179e"
             ],
             [
              0.4444444444444444,
              "#bd3786"
             ],
             [
              0.5555555555555556,
              "#d8576b"
             ],
             [
              0.6666666666666666,
              "#ed7953"
             ],
             [
              0.7777777777777778,
              "#fb9f3a"
             ],
             [
              0.8888888888888888,
              "#fdca26"
             ],
             [
              1,
              "#f0f921"
             ]
            ],
            "type": "heatmap"
           }
          ],
          "heatmapgl": [
           {
            "colorbar": {
             "outlinewidth": 0,
             "ticks": ""
            },
            "colorscale": [
             [
              0,
              "#0d0887"
             ],
             [
              0.1111111111111111,
              "#46039f"
             ],
             [
              0.2222222222222222,
              "#7201a8"
             ],
             [
              0.3333333333333333,
              "#9c179e"
             ],
             [
              0.4444444444444444,
              "#bd3786"
             ],
             [
              0.5555555555555556,
              "#d8576b"
             ],
             [
              0.6666666666666666,
              "#ed7953"
             ],
             [
              0.7777777777777778,
              "#fb9f3a"
             ],
             [
              0.8888888888888888,
              "#fdca26"
             ],
             [
              1,
              "#f0f921"
             ]
            ],
            "type": "heatmapgl"
           }
          ],
          "histogram": [
           {
            "marker": {
             "pattern": {
              "fillmode": "overlay",
              "size": 10,
              "solidity": 0.2
             }
            },
            "type": "histogram"
           }
          ],
          "histogram2d": [
           {
            "colorbar": {
             "outlinewidth": 0,
             "ticks": ""
            },
            "colorscale": [
             [
              0,
              "#0d0887"
             ],
             [
              0.1111111111111111,
              "#46039f"
             ],
             [
              0.2222222222222222,
              "#7201a8"
             ],
             [
              0.3333333333333333,
              "#9c179e"
             ],
             [
              0.4444444444444444,
              "#bd3786"
             ],
             [
              0.5555555555555556,
              "#d8576b"
             ],
             [
              0.6666666666666666,
              "#ed7953"
             ],
             [
              0.7777777777777778,
              "#fb9f3a"
             ],
             [
              0.8888888888888888,
              "#fdca26"
             ],
             [
              1,
              "#f0f921"
             ]
            ],
            "type": "histogram2d"
           }
          ],
          "histogram2dcontour": [
           {
            "colorbar": {
             "outlinewidth": 0,
             "ticks": ""
            },
            "colorscale": [
             [
              0,
              "#0d0887"
             ],
             [
              0.1111111111111111,
              "#46039f"
             ],
             [
              0.2222222222222222,
              "#7201a8"
             ],
             [
              0.3333333333333333,
              "#9c179e"
             ],
             [
              0.4444444444444444,
              "#bd3786"
             ],
             [
              0.5555555555555556,
              "#d8576b"
             ],
             [
              0.6666666666666666,
              "#ed7953"
             ],
             [
              0.7777777777777778,
              "#fb9f3a"
             ],
             [
              0.8888888888888888,
              "#fdca26"
             ],
             [
              1,
              "#f0f921"
             ]
            ],
            "type": "histogram2dcontour"
           }
          ],
          "mesh3d": [
           {
            "colorbar": {
             "outlinewidth": 0,
             "ticks": ""
            },
            "type": "mesh3d"
           }
          ],
          "parcoords": [
           {
            "line": {
             "colorbar": {
              "outlinewidth": 0,
              "ticks": ""
             }
            },
            "type": "parcoords"
           }
          ],
          "pie": [
           {
            "automargin": true,
            "type": "pie"
           }
          ],
          "scatter": [
           {
            "fillpattern": {
             "fillmode": "overlay",
             "size": 10,
             "solidity": 0.2
            },
            "type": "scatter"
           }
          ],
          "scatter3d": [
           {
            "line": {
             "colorbar": {
              "outlinewidth": 0,
              "ticks": ""
             }
            },
            "marker": {
             "colorbar": {
              "outlinewidth": 0,
              "ticks": ""
             }
            },
            "type": "scatter3d"
           }
          ],
          "scattercarpet": [
           {
            "marker": {
             "colorbar": {
              "outlinewidth": 0,
              "ticks": ""
             }
            },
            "type": "scattercarpet"
           }
          ],
          "scattergeo": [
           {
            "marker": {
             "colorbar": {
              "outlinewidth": 0,
              "ticks": ""
             }
            },
            "type": "scattergeo"
           }
          ],
          "scattergl": [
           {
            "marker": {
             "colorbar": {
              "outlinewidth": 0,
              "ticks": ""
             }
            },
            "type": "scattergl"
           }
          ],
          "scattermapbox": [
           {
            "marker": {
             "colorbar": {
              "outlinewidth": 0,
              "ticks": ""
             }
            },
            "type": "scattermapbox"
           }
          ],
          "scatterpolar": [
           {
            "marker": {
             "colorbar": {
              "outlinewidth": 0,
              "ticks": ""
             }
            },
            "type": "scatterpolar"
           }
          ],
          "scatterpolargl": [
           {
            "marker": {
             "colorbar": {
              "outlinewidth": 0,
              "ticks": ""
             }
            },
            "type": "scatterpolargl"
           }
          ],
          "scatterternary": [
           {
            "marker": {
             "colorbar": {
              "outlinewidth": 0,
              "ticks": ""
             }
            },
            "type": "scatterternary"
           }
          ],
          "surface": [
           {
            "colorbar": {
             "outlinewidth": 0,
             "ticks": ""
            },
            "colorscale": [
             [
              0,
              "#0d0887"
             ],
             [
              0.1111111111111111,
              "#46039f"
             ],
             [
              0.2222222222222222,
              "#7201a8"
             ],
             [
              0.3333333333333333,
              "#9c179e"
             ],
             [
              0.4444444444444444,
              "#bd3786"
             ],
             [
              0.5555555555555556,
              "#d8576b"
             ],
             [
              0.6666666666666666,
              "#ed7953"
             ],
             [
              0.7777777777777778,
              "#fb9f3a"
             ],
             [
              0.8888888888888888,
              "#fdca26"
             ],
             [
              1,
              "#f0f921"
             ]
            ],
            "type": "surface"
           }
          ],
          "table": [
           {
            "cells": {
             "fill": {
              "color": "#EBF0F8"
             },
             "line": {
              "color": "white"
             }
            },
            "header": {
             "fill": {
              "color": "#C8D4E3"
             },
             "line": {
              "color": "white"
             }
            },
            "type": "table"
           }
          ]
         },
         "layout": {
          "annotationdefaults": {
           "arrowcolor": "#2a3f5f",
           "arrowhead": 0,
           "arrowwidth": 1
          },
          "autotypenumbers": "strict",
          "coloraxis": {
           "colorbar": {
            "outlinewidth": 0,
            "ticks": ""
           }
          },
          "colorscale": {
           "diverging": [
            [
             0,
             "#8e0152"
            ],
            [
             0.1,
             "#c51b7d"
            ],
            [
             0.2,
             "#de77ae"
            ],
            [
             0.3,
             "#f1b6da"
            ],
            [
             0.4,
             "#fde0ef"
            ],
            [
             0.5,
             "#f7f7f7"
            ],
            [
             0.6,
             "#e6f5d0"
            ],
            [
             0.7,
             "#b8e186"
            ],
            [
             0.8,
             "#7fbc41"
            ],
            [
             0.9,
             "#4d9221"
            ],
            [
             1,
             "#276419"
            ]
           ],
           "sequential": [
            [
             0,
             "#0d0887"
            ],
            [
             0.1111111111111111,
             "#46039f"
            ],
            [
             0.2222222222222222,
             "#7201a8"
            ],
            [
             0.3333333333333333,
             "#9c179e"
            ],
            [
             0.4444444444444444,
             "#bd3786"
            ],
            [
             0.5555555555555556,
             "#d8576b"
            ],
            [
             0.6666666666666666,
             "#ed7953"
            ],
            [
             0.7777777777777778,
             "#fb9f3a"
            ],
            [
             0.8888888888888888,
             "#fdca26"
            ],
            [
             1,
             "#f0f921"
            ]
           ],
           "sequentialminus": [
            [
             0,
             "#0d0887"
            ],
            [
             0.1111111111111111,
             "#46039f"
            ],
            [
             0.2222222222222222,
             "#7201a8"
            ],
            [
             0.3333333333333333,
             "#9c179e"
            ],
            [
             0.4444444444444444,
             "#bd3786"
            ],
            [
             0.5555555555555556,
             "#d8576b"
            ],
            [
             0.6666666666666666,
             "#ed7953"
            ],
            [
             0.7777777777777778,
             "#fb9f3a"
            ],
            [
             0.8888888888888888,
             "#fdca26"
            ],
            [
             1,
             "#f0f921"
            ]
           ]
          },
          "colorway": [
           "#636efa",
           "#EF553B",
           "#00cc96",
           "#ab63fa",
           "#FFA15A",
           "#19d3f3",
           "#FF6692",
           "#B6E880",
           "#FF97FF",
           "#FECB52"
          ],
          "font": {
           "color": "#2a3f5f"
          },
          "geo": {
           "bgcolor": "white",
           "lakecolor": "white",
           "landcolor": "#E5ECF6",
           "showlakes": true,
           "showland": true,
           "subunitcolor": "white"
          },
          "hoverlabel": {
           "align": "left"
          },
          "hovermode": "closest",
          "mapbox": {
           "style": "light"
          },
          "paper_bgcolor": "white",
          "plot_bgcolor": "#E5ECF6",
          "polar": {
           "angularaxis": {
            "gridcolor": "white",
            "linecolor": "white",
            "ticks": ""
           },
           "bgcolor": "#E5ECF6",
           "radialaxis": {
            "gridcolor": "white",
            "linecolor": "white",
            "ticks": ""
           }
          },
          "scene": {
           "xaxis": {
            "backgroundcolor": "#E5ECF6",
            "gridcolor": "white",
            "gridwidth": 2,
            "linecolor": "white",
            "showbackground": true,
            "ticks": "",
            "zerolinecolor": "white"
           },
           "yaxis": {
            "backgroundcolor": "#E5ECF6",
            "gridcolor": "white",
            "gridwidth": 2,
            "linecolor": "white",
            "showbackground": true,
            "ticks": "",
            "zerolinecolor": "white"
           },
           "zaxis": {
            "backgroundcolor": "#E5ECF6",
            "gridcolor": "white",
            "gridwidth": 2,
            "linecolor": "white",
            "showbackground": true,
            "ticks": "",
            "zerolinecolor": "white"
           }
          },
          "shapedefaults": {
           "line": {
            "color": "#2a3f5f"
           }
          },
          "ternary": {
           "aaxis": {
            "gridcolor": "white",
            "linecolor": "white",
            "ticks": ""
           },
           "baxis": {
            "gridcolor": "white",
            "linecolor": "white",
            "ticks": ""
           },
           "bgcolor": "#E5ECF6",
           "caxis": {
            "gridcolor": "white",
            "linecolor": "white",
            "ticks": ""
           }
          },
          "title": {
           "x": 0.05
          },
          "xaxis": {
           "automargin": true,
           "gridcolor": "white",
           "linecolor": "white",
           "ticks": "",
           "title": {
            "standoff": 15
           },
           "zerolinecolor": "white",
           "zerolinewidth": 2
          },
          "yaxis": {
           "automargin": true,
           "gridcolor": "white",
           "linecolor": "white",
           "ticks": "",
           "title": {
            "standoff": 15
           },
           "zerolinecolor": "white",
           "zerolinewidth": 2
          }
         }
        },
        "title": {
         "text": "Ship Position: True vs Predicted"
        },
        "updatemenus": [
         {
          "active": 1,
          "buttons": [
           {
            "args": [
             null,
             {
              "frame": {
               "duration": 200,
               "redraw": true
              },
              "fromcurrent": true
             }
            ],
            "label": "Play",
            "method": "animate"
           },
           {
            "args": [
             [
              null
             ],
             {
              "frame": {
               "duration": 0
              },
              "mode": "immediate",
              "redraw": true
             }
            ],
            "label": "Pause",
            "method": "animate"
           }
          ],
          "direction": "left",
          "pad": {
           "r": 10,
           "t": 87
          },
          "showactive": false,
          "type": "buttons"
         }
        ],
        "xaxis": {
         "range": [
          -95.01862,
          -80.14047
         ],
         "title": {
          "text": "Longitude"
         },
         "type": "linear"
        },
        "yaxis": {
         "range": [
          23.73772,
          30.679470000000002
         ],
         "title": {
          "text": "Latitude"
         },
         "type": "linear"
        }
       }
      },
      "image/png": "[encoded data removed]",
      "text/html": [
       "<div>                            <div id=\"3149b191-229c-429c-8f6c-a171f909dcbc\" class=\"plotly-graph-div\" style=\"height:525px; width:100%;\"></div>            <script type=\"text/javascript\">                require([\"plotly\"], function(Plotly) {                    window.PLOTLYENV=window.PLOTLYENV || {};                                    if (document.getElementById(\"3149b191-229c-429c-8f6c-a171f909dcbc\")) {                    Plotly.newPlot(                        \"3149b191-229c-429c-8f6c-a171f909dcbc\",                        [{\"marker\":{\"color\":\"red\",\"size\":8},\"mode\":\"markers\",\"name\":\"True Position\",\"x\":[],\"y\":[],\"type\":\"scatter\"},{\"marker\":{\"color\":\"blue\",\"size\":8},\"mode\":\"markers\",\"name\":\"Predicted Position\",\"x\":[],\"y\":[],\"type\":\"scatter\"}],                        {\"template\":{\"data\":{\"histogram2dcontour\":[{\"type\":\"histogram2dcontour\",\"colorbar\":{\"outlinewidth\":0,\"ticks\":\"\"},\"colorscale\":[[0.0,\"#0d0887\"],[0.1111111111111111,\"#46039f\"],[0.2222222222222222,\"#7201a8\"],[0.3333333333333333,\"#9c179e\"],[0.4444444444444444,\"#bd3786\"],[0.5555555555555556,\"#d8576b\"],[0.6666666666666666,\"#ed7953\"],[0.7777777777777778,\"#fb9f3a\"],[0.8888888888888888,\"#fdca26\"],[1.0,\"#f0f921\"]]}],\"choropleth\":[{\"type\":\"choropleth\",\"colorbar\":{\"outlinewidth\":0,\"ticks\":\"\"}}],\"histogram2d\":[{\"type\":\"histogram2d\",\"colorbar\":{\"outlinewidth\":0,\"ticks\":\"\"},\"colorscale\":[[0.0,\"#0d0887\"],[0.1111111111111111,\"#46039f\"],[0.2222222222222222,\"#7201a8\"],[0.3333333333333333,\"#9c179e\"],[0.4444444444444444,\"#bd3786\"],[0.5555555555555556,\"#d8576b\"],[0.6666666666666666,\"#ed7953\"],[0.7777777777777778,\"#fb9f3a\"],[0.8888888888888888,\"#fdca26\"],[1.0,\"#f0f921\"]]}],\"heatmap\":[{\"type\":\"heatmap\",\"colorbar\":{\"outlinewidth\":0,\"ticks\":\"\"},\"colorscale\":[[0.0,\"#0d0887\"],[0.1111111111111111,\"#46039f\"],[0.2222222222222222,\"#7201a8\"],[0.3333333333333333,\"#9c179e\"],[0.4444444444444444,\"#bd3786\"],[0.5555555555555556,\"#d8576b\"],[0.6666666666666666,\"#ed7953\"],[0.7777777777777778,\"#fb9f3a\"],[0.8888888888888888,\"#fdca26\"],[1.0,\"#f0f921\"]]}],\"heatmapgl\":[{\"type\":\"heatmapgl\",\"colorbar\":{\"outlinewidth\":0,\"ticks\":\"\"},\"colorscale\":[[0.0,\"#0d0887\"],[0.1111111111111111,\"#46039f\"],[0.2222222222222222,\"#7201a8\"],[0.3333333333333333,\"#9c179e\"],[0.4444444444444444,\"#bd3786\"],[0.5555555555555556,\"#d8576b\"],[0.6666666666666666,\"#ed7953\"],[0.7777777777777778,\"#fb9f3a\"],[0.8888888888888888,\"#fdca26\"],[1.0,\"#f0f921\"]]}],\"contourcarpet\":[{\"type\":\"contourcarpet\",\"colorbar\":{\"outlinewidth\":0,\"ticks\":\"\"}}],\"contour\":[{\"type\":\"contour\",\"colorbar\":{\"outlinewidth\":0,\"ticks\":\"\"},\"colorscale\":[[0.0,\"#0d0887\"],[0.1111111111111111,\"#46039f\"],[0.2222222222222222,\"#7201a8\"],[0.3333333333333333,\"#9c179e\"],[0.4444444444444444,\"#bd3786\"],[0.5555555555555556,\"#d8576b\"],[0.6666666666666666,\"#ed7953\"],[0.7777777777777778,\"#fb9f3a\"],[0.8888888888888888,\"#fdca26\"],[1.0,\"#f0f921\"]]}],\"surface\":[{\"type\":\"surface\",\"colorbar\":{\"outlinewidth\":0,\"ticks\":\"\"},\"colorscale\":[[0.0,\"#0d0887\"],[0.1111111111111111,\"#46039f\"],[0.2222222222222222,\"#7201a8\"],[0.3333333333333333,\"#9c179e\"],[0.4444444444444444,\"#bd3786\"],[0.5555555555555556,\"#d8576b\"],[0.6666666666666666,\"#ed7953\"],[0.7777777777777778,\"#fb9f3a\"],[0.8888888888888888,\"#fdca26\"],[1.0,\"#f0f921\"]]}],\"mesh3d\":[{\"type\":\"mesh3d\",\"colorbar\":{\"outlinewidth\":0,\"ticks\":\"\"}}],\"scatter\":[{\"fillpattern\":{\"fillmode\":\"overlay\",\"size\":10,\"solidity\":0.2},\"type\":\"scatter\"}],\"parcoords\":[{\"type\":\"parcoords\",\"line\":{\"colorbar\":{\"outlinewidth\":0,\"ticks\":\"\"}}}],\"scatterpolargl\":[{\"type\":\"scatterpolargl\",\"marker\":{\"colorbar\":{\"outlinewidth\":0,\"ticks\":\"\"}}}],\"bar\":[{\"error_x\":{\"color\":\"#2a3f5f\"},\"error_y\":{\"color\":\"#2a3f5f\"},\"marker\":{\"line\":{\"color\":\"#E5ECF6\",\"width\":0.5},\"pattern\":{\"fillmode\":\"overlay\",\"size\":10,\"solidity\":0.2}},\"type\":\"bar\"}],\"scattergeo\":[{\"type\":\"scattergeo\",\"marker\":{\"colorbar\":{\"outlinewidth\":0,\"ticks\":\"\"}}}],\"scatterpolar\":[{\"type\":\"scatterpolar\",\"marker\":{\"colorbar\":{\"outlinewidth\":0,\"ticks\":\"\"}}}],\"histogram\":[{\"marker\":{\"pattern\":{\"fillmode\":\"overlay\",\"size\":10,\"solidity\":0.2}},\"type\":\"histogram\"}],\"scattergl\":[{\"type\":\"scattergl\",\"marker\":{\"colorbar\":{\"outlinewidth\":0,\"ticks\":\"\"}}}],\"scatter3d\":[{\"type\":\"scatter3d\",\"line\":{\"colorbar\":{\"outlinewidth\":0,\"ticks\":\"\"}},\"marker\":{\"colorbar\":{\"outlinewidth\":0,\"ticks\":\"\"}}}],\"scattermapbox\":[{\"type\":\"scattermapbox\",\"marker\":{\"colorbar\":{\"outlinewidth\":0,\"ticks\":\"\"}}}],\"scatterternary\":[{\"type\":\"scatterternary\",\"marker\":{\"colorbar\":{\"outlinewidth\":0,\"ticks\":\"\"}}}],\"scattercarpet\":[{\"type\":\"scattercarpet\",\"marker\":{\"colorbar\":{\"outlinewidth\":0,\"ticks\":\"\"}}}],\"carpet\":[{\"aaxis\":{\"endlinecolor\":\"#2a3f5f\",\"gridcolor\":\"white\",\"linecolor\":\"white\",\"minorgridcolor\":\"white\",\"startlinecolor\":\"#2a3f5f\"},\"baxis\":{\"endlinecolor\":\"#2a3f5f\",\"gridcolor\":\"white\",\"linecolor\":\"white\",\"minorgridcolor\":\"white\",\"startlinecolor\":\"#2a3f5f\"},\"type\":\"carpet\"}],\"table\":[{\"cells\":{\"fill\":{\"color\":\"#EBF0F8\"},\"line\":{\"color\":\"white\"}},\"header\":{\"fill\":{\"color\":\"#C8D4E3\"},\"line\":{\"color\":\"white\"}},\"type\":\"table\"}],\"barpolar\":[{\"marker\":{\"line\":{\"color\":\"#E5ECF6\",\"width\":0.5},\"pattern\":{\"fillmode\":\"overlay\",\"size\":10,\"solidity\":0.2}},\"type\":\"barpolar\"}],\"pie\":[{\"automargin\":true,\"type\":\"pie\"}]},\"layout\":{\"autotypenumbers\":\"strict\",\"colorway\":[\"#636efa\",\"#EF553B\",\"#00cc96\",\"#ab63fa\",\"#FFA15A\",\"#19d3f3\",\"#FF6692\",\"#B6E880\",\"#FF97FF\",\"#FECB52\"],\"font\":{\"color\":\"#2a3f5f\"},\"hovermode\":\"closest\",\"hoverlabel\":{\"align\":\"left\"},\"paper_bgcolor\":\"white\",\"plot_bgcolor\":\"#E5ECF6\",\"polar\":{\"bgcolor\":\"#E5ECF6\",\"angularaxis\":{\"gridcolor\":\"white\",\"linecolor\":\"white\",\"ticks\":\"\"},\"radialaxis\":{\"gridcolor\":\"white\",\"linecolor\":\"white\",\"ticks\":\"\"}},\"ternary\":{\"bgcolor\":\"#E5ECF6\",\"aaxis\":{\"gridcolor\":\"white\",\"linecolor\":\"white\",\"ticks\":\"\"},\"baxis\":{\"gridcolor\":\"white\",\"linecolor\":\"white\",\"ticks\":\"\"},\"caxis\":{\"gridcolor\":\"white\",\"linecolor\":\"white\",\"ticks\":\"\"}},\"coloraxis\":{\"colorbar\":{\"outlinewidth\":0,\"ticks\":\"\"}},\"colorscale\":{\"sequential\":[[0.0,\"#0d0887\"],[0.1111111111111111,\"#46039f\"],[0.2222222222222222,\"#7201a8\"],[0.3333333333333333,\"#9c179e\"],[0.4444444444444444,\"#bd3786\"],[0.5555555555555556,\"#d8576b\"],[0.6666666666666666,\"#ed7953\"],[0.7777777777777778,\"#fb9f3a\"],[0.8888888888888888,\"#fdca26\"],[1.0,\"#f0f921\"]],\"sequentialminus\":[[0.0,\"#0d0887\"],[0.1111111111111111,\"#46039f\"],[0.2222222222222222,\"#7201a8\"],[0.3333333333333333,\"#9c179e\"],[0.4444444444444444,\"#bd3786\"],[0.5555555555555556,\"#d8576b\"],[0.6666666666666666,\"#ed7953\"],[0.7777777777777778,\"#fb9f3a\"],[0.8888888888888888,\"#fdca26\"],[1.0,\"#f0f921\"]],\"diverging\":[[0,\"#8e0152\"],[0.1,\"#c51b7d\"],[0.2,\"#de77ae\"],[0.3,\"#f1b6da\"],[0.4,\"#fde0ef\"],[0.5,\"#f7f7f7\"],[0.6,\"#e6f5d0\"],[0.7,\"#b8e186\"],[0.8,\"#7fbc41\"],[0.9,\"#4d9221\"],[1,\"#276419\"]]},\"xaxis\":{\"gridcolor\":\"white\",\"linecolor\":\"white\",\"ticks\":\"\",\"title\":{\"standoff\":15},\"zerolinecolor\":\"white\",\"automargin\":true,\"zerolinewidth\":2},\"yaxis\":{\"gridcolor\":\"white\",\"linecolor\":\"white\",\"ticks\":\"\",\"title\":{\"standoff\":15},\"zerolinecolor\":\"white\",\"automargin\":true,\"zerolinewidth\":2},\"scene\":{\"xaxis\":{\"backgroundcolor\":\"#E5ECF6\",\"gridcolor\":\"white\",\"linecolor\":\"white\",\"showbackground\":true,\"ticks\":\"\",\"zerolinecolor\":\"white\",\"gridwidth\":2},\"yaxis\":{\"backgroundcolor\":\"#E5ECF6\",\"gridcolor\":\"white\",\"linecolor\":\"white\",\"showbackground\":true,\"ticks\":\"\",\"zerolinecolor\":\"white\",\"gridwidth\":2},\"zaxis\":{\"backgroundcolor\":\"#E5ECF6\",\"gridcolor\":\"white\",\"linecolor\":\"white\",\"showbackground\":true,\"ticks\":\"\",\"zerolinecolor\":\"white\",\"gridwidth\":2}},\"shapedefaults\":{\"line\":{\"color\":\"#2a3f5f\"}},\"annotationdefaults\":{\"arrowcolor\":\"#2a3f5f\",\"arrowhead\":0,\"arrowwidth\":1},\"geo\":{\"bgcolor\":\"white\",\"landcolor\":\"#E5ECF6\",\"subunitcolor\":\"white\",\"showland\":true,\"showlakes\":true,\"lakecolor\":\"white\"},\"title\":{\"x\":0.05},\"mapbox\":{\"style\":\"light\"}}},\"xaxis\":{\"title\":{\"text\":\"Longitude\"},\"range\":[-95.01862,-80.14047]},\"yaxis\":{\"title\":{\"text\":\"Latitude\"},\"range\":[23.73772,30.679470000000002]},\"title\":{\"text\":\"Ship Position: True vs Predicted\"},\"updatemenus\":[{\"buttons\":[{\"args\":[null,{\"frame\":{\"duration\":200,\"redraw\":true},\"fromcurrent\":true}],\"label\":\"Play\",\"method\":\"animate\"},{\"args\":[[null],{\"frame\":{\"duration\":0},\"mode\":\"immediate\",\"redraw\":true}],\"label\":\"Pause\",\"method\":\"animate\"}],\"direction\":\"left\",\"pad\":{\"r\":10,\"t\":87},\"showactive\":false,\"type\":\"buttons\"}],\"sliders\":[{\"active\":0,\"steps\":[{\"args\":[[\"0\"],{\"frame\":{\"duration\":0},\"mode\":\"immediate\",\"redraw\":true}],\"label\":\"0\",\"method\":\"animate\"},{\"args\":[[\"1\"],{\"frame\":{\"duration\":0},\"mode\":\"immediate\",\"redraw\":true}],\"label\":\"1\",\"method\":\"animate\"},{\"args\":[[\"2\"],{\"frame\":{\"duration\":0},\"mode\":\"immediate\",\"redraw\":true}],\"label\":\"2\",\"method\":\"animate\"},{\"args\":[[\"3\"],{\"frame\":{\"duration\":0},\"mode\":\"immediate\",\"redraw\":true}],\"label\":\"3\",\"method\":\"animate\"},{\"args\":[[\"4\"],{\"frame\":{\"duration\":0},\"mode\":\"immediate\",\"redraw\":true}],\"label\":\"4\",\"method\":\"animate\"},{\"args\":[[\"5\"],{\"frame\":{\"duration\":0},\"mode\":\"immediate\",\"redraw\":true}],\"label\":\"5\",\"method\":\"animate\"},{\"args\":[[\"6\"],{\"frame\":{\"duration\":0},\"mode\":\"immediate\",\"redraw\":true}],\"label\":\"6\",\"method\":\"animate\"},{\"args\":[[\"7\"],{\"frame\":{\"duration\":0},\"mode\":\"immediate\",\"redraw\":true}],\"label\":\"7\",\"method\":\"animate\"},{\"args\":[[\"8\"],{\"frame\":{\"duration\":0},\"mode\":\"immediate\",\"redraw\":true}],\"label\":\"8\",\"method\":\"animate\"},{\"args\":[[\"9\"],{\"frame\":{\"duration\":0},\"mode\":\"immediate\",\"redraw\":true}],\"label\":\"9\",\"method\":\"animate\"},{\"args\":[[\"10\"],{\"frame\":{\"duration\":0},\"mode\":\"immediate\",\"redraw\":true}],\"label\":\"10\",\"method\":\"animate\"},{\"args\":[[\"11\"],{\"frame\":{\"duration\":0},\"mode\":\"immediate\",\"redraw\":true}],\"label\":\"11\",\"method\":\"animate\"},{\"args\":[[\"12\"],{\"frame\":{\"duration\":0},\"mode\":\"immediate\",\"redraw\":true}],\"label\":\"12\",\"method\":\"animate\"},{\"args\":[[\"13\"],{\"frame\":{\"duration\":0},\"mode\":\"immediate\",\"redraw\":true}],\"label\":\"13\",\"method\":\"animate\"},{\"args\":[[\"14\"],{\"frame\":{\"duration\":0},\"mode\":\"immediate\",\"redraw\":true}],\"label\":\"14\",\"method\":\"animate\"},{\"args\":[[\"15\"],{\"frame\":{\"duration\":0},\"mode\":\"immediate\",\"redraw\":true}],\"label\":\"15\",\"method\":\"animate\"},{\"args\":[[\"16\"],{\"frame\":{\"duration\":0},\"mode\":\"immediate\",\"redraw\":true}],\"label\":\"16\",\"method\":\"animate\"},{\"args\":[[\"17\"],{\"frame\":{\"duration\":0},\"mode\":\"immediate\",\"redraw\":true}],\"label\":\"17\",\"method\":\"animate\"},{\"args\":[[\"18\"],{\"frame\":{\"duration\":0},\"mode\":\"immediate\",\"redraw\":true}],\"label\":\"18\",\"method\":\"animate\"},{\"args\":[[\"19\"],{\"frame\":{\"duration\":0},\"mode\":\"immediate\",\"redraw\":true}],\"label\":\"19\",\"method\":\"animate\"}]}]},                        {\"responsive\": true}                    ).then(function(){\n",
       "                            Plotly.addFrames('3149b191-229c-429c-8f6c-a171f909dcbc', [{\"data\":[{\"marker\":{\"color\":\"red\",\"size\":10},\"mode\":\"markers\",\"x\":[-92.7527],\"y\":[28.0556],\"type\":\"scatter\"},{\"marker\":{\"color\":\"blue\",\"size\":10},\"mode\":\"markers\",\"x\":[-90.7848129272461],\"y\":[28.721168518066406],\"type\":\"scatter\"}],\"name\":\"0\"},{\"data\":[{\"marker\":{\"color\":\"red\",\"size\":10},\"mode\":\"markers\",\"x\":[-94.33553],\"y\":[28.8676],\"type\":\"scatter\"},{\"marker\":{\"color\":\"blue\",\"size\":10},\"mode\":\"markers\",\"x\":[-89.29096984863281],\"y\":[29.217023849487305],\"type\":\"scatter\"}],\"name\":\"1\"},{\"data\":[{\"marker\":{\"color\":\"red\",\"size\":10},\"mode\":\"markers\",\"x\":[-89.99292],\"y\":[29.83298],\"type\":\"scatter\"},{\"marker\":{\"color\":\"blue\",\"size\":10},\"mode\":\"markers\",\"x\":[-88.79449462890625],\"y\":[29.172731399536133],\"type\":\"scatter\"}],\"name\":\"2\"},{\"data\":[{\"marker\":{\"color\":\"red\",\"size\":10},\"mode\":\"markers\",\"x\":[-88.0243],\"y\":[30.54337],\"type\":\"scatter\"},{\"marker\":{\"color\":\"blue\",\"size\":10},\"mode\":\"markers\",\"x\":[-86.96147918701172],\"y\":[29.019359588623047],\"type\":\"scatter\"}],\"name\":\"3\"},{\"data\":[{\"marker\":{\"color\":\"red\",\"size\":10},\"mode\":\"markers\",\"x\":[-88.03375],\"y\":[30.66947],\"type\":\"scatter\"},{\"marker\":{\"color\":\"blue\",\"size\":10},\"mode\":\"markers\",\"x\":[-89.41268920898438],\"y\":[29.89037322998047],\"type\":\"scatter\"}],\"name\":\"4\"},{\"data\":[{\"marker\":{\"color\":\"red\",\"size\":10},\"mode\":\"markers\",\"x\":[-94.53358],\"y\":[28.99312],\"type\":\"scatter\"},{\"marker\":{\"color\":\"blue\",\"size\":10},\"mode\":\"markers\",\"x\":[-93.40404510498047],\"y\":[30.588157653808594],\"type\":\"scatter\"}],\"name\":\"5\"},{\"data\":[{\"marker\":{\"color\":\"red\",\"size\":10},\"mode\":\"markers\",\"x\":[-94.40987],\"y\":[28.37232],\"type\":\"scatter\"},{\"marker\":{\"color\":\"blue\",\"size\":10},\"mode\":\"markers\",\"x\":[-87.20050048828125],\"y\":[29.945253372192383],\"type\":\"scatter\"}],\"name\":\"6\"},{\"data\":[{\"marker\":{\"color\":\"red\",\"size\":10},\"mode\":\"markers\",\"x\":[-85.14353],\"y\":[24.33993],\"type\":\"scatter\"},{\"marker\":{\"color\":\"blue\",\"size\":10},\"mode\":\"markers\",\"x\":[-92.96524047851562],\"y\":[28.258832931518555],\"type\":\"scatter\"}],\"name\":\"7\"},{\"data\":[{\"marker\":{\"color\":\"red\",\"size\":10},\"mode\":\"markers\",\"x\":[-88.68017],\"y\":[28.65548],\"type\":\"scatter\"},{\"marker\":{\"color\":\"blue\",\"size\":10},\"mode\":\"markers\",\"x\":[-92.2429428100586],\"y\":[29.04613494873047],\"type\":\"scatter\"}],\"name\":\"8\"},{\"data\":[{\"marker\":{\"color\":\"red\",\"size\":10},\"mode\":\"markers\",\"x\":[-94.03017],\"y\":[28.86477],\"type\":\"scatter\"},{\"marker\":{\"color\":\"blue\",\"size\":10},\"mode\":\"markers\",\"x\":[-102.96835327148438],\"y\":[30.20401382446289],\"type\":\"scatter\"}],\"name\":\"9\"},{\"data\":[{\"marker\":{\"color\":\"red\",\"size\":10},\"mode\":\"markers\",\"x\":[-93.9699],\"y\":[28.84627],\"type\":\"scatter\"},{\"marker\":{\"color\":\"blue\",\"size\":10},\"mode\":\"markers\",\"x\":[-103.07125091552734],\"y\":[30.28438377380371],\"type\":\"scatter\"}],\"name\":\"10\"},{\"data\":[{\"marker\":{\"color\":\"red\",\"size\":10},\"mode\":\"markers\",\"x\":[-94.50133],\"y\":[29.18028],\"type\":\"scatter\"},{\"marker\":{\"color\":\"blue\",\"size\":10},\"mode\":\"markers\",\"x\":[-99.12095642089844],\"y\":[30.18269157409668],\"type\":\"scatter\"}],\"name\":\"11\"},{\"data\":[{\"marker\":{\"color\":\"red\",\"size\":10},\"mode\":\"markers\",\"x\":[-95.00862],\"y\":[29.61253],\"type\":\"scatter\"},{\"marker\":{\"color\":\"blue\",\"size\":10},\"mode\":\"markers\",\"x\":[-96.50184631347656],\"y\":[29.0385799407959],\"type\":\"scatter\"}],\"name\":\"12\"},{\"data\":[{\"marker\":{\"color\":\"red\",\"size\":10},\"mode\":\"markers\",\"x\":[-94.59772],\"y\":[29.17852],\"type\":\"scatter\"},{\"marker\":{\"color\":\"blue\",\"size\":10},\"mode\":\"markers\",\"x\":[-91.96288299560547],\"y\":[27.793304443359375],\"type\":\"scatter\"}],\"name\":\"13\"},{\"data\":[{\"marker\":{\"color\":\"red\",\"size\":10},\"mode\":\"markers\",\"x\":[-89.38718],\"y\":[28.9636],\"type\":\"scatter\"},{\"marker\":{\"color\":\"blue\",\"size\":10},\"mode\":\"markers\",\"x\":[-90.61292266845703],\"y\":[29.258331298828125],\"type\":\"scatter\"}],\"name\":\"14\"},{\"data\":[{\"marker\":{\"color\":\"red\",\"size\":10},\"mode\":\"markers\",\"x\":[-87.76232],\"y\":[29.80252],\"type\":\"scatter\"},{\"marker\":{\"color\":\"blue\",\"size\":10},\"mode\":\"markers\",\"x\":[-91.75806427001953],\"y\":[28.340980529785156],\"type\":\"scatter\"}],\"name\":\"15\"},{\"data\":[{\"marker\":{\"color\":\"red\",\"size\":10},\"mode\":\"markers\",\"x\":[-80.15047],\"y\":[25.76593],\"type\":\"scatter\"},{\"marker\":{\"color\":\"blue\",\"size\":10},\"mode\":\"markers\",\"x\":[-91.10003662109375],\"y\":[27.444381713867188],\"type\":\"scatter\"}],\"name\":\"16\"},{\"data\":[{\"marker\":{\"color\":\"red\",\"size\":10},\"mode\":\"markers\",\"x\":[-94.33572],\"y\":[28.8682],\"type\":\"scatter\"},{\"marker\":{\"color\":\"blue\",\"size\":10},\"mode\":\"markers\",\"x\":[-96.27437591552734],\"y\":[31.207069396972656],\"type\":\"scatter\"}],\"name\":\"17\"},{\"data\":[{\"marker\":{\"color\":\"red\",\"size\":10},\"mode\":\"markers\",\"x\":[-83.38428],\"y\":[23.74772],\"type\":\"scatter\"},{\"marker\":{\"color\":\"blue\",\"size\":10},\"mode\":\"markers\",\"x\":[-93.35269927978516],\"y\":[26.109994888305664],\"type\":\"scatter\"}],\"name\":\"18\"},{\"data\":[{\"marker\":{\"color\":\"red\",\"size\":10},\"mode\":\"markers\",\"x\":[-89.32587],\"y\":[28.89452],\"type\":\"scatter\"},{\"marker\":{\"color\":\"blue\",\"size\":10},\"mode\":\"markers\",\"x\":[-66.63522338867188],\"y\":[24.776845932006836],\"type\":\"scatter\"}],\"name\":\"19\"}]);\n",
       "                        }).then(function(){\n",
       "                            \n",
       "var gd = document.getElementById('3149b191-229c-429c-8f6c-a171f909dcbc');\n",
       "var x = new MutationObserver(function (mutations, observer) {{\n",
       "        var display = window.getComputedStyle(gd).display;\n",
       "        if (!display || display === 'none') {{\n",
       "            console.log([gd, 'removed!']);\n",
       "            Plotly.purge(gd);\n",
       "            observer.disconnect();\n",
       "        }}\n",
       "}});\n",
       "\n",
       "// Listen for the removal of the full notebook cells\n",
       "var notebookContainer = gd.closest('#notebook-container');\n",
       "if (notebookContainer) {{\n",
       "    x.observe(notebookContainer, {childList: true});\n",
       "}}\n",
       "\n",
       "// Listen for the clearing of the current output cell\n",
       "var outputEl = gd.closest('.output');\n",
       "if (outputEl) {{\n",
       "    x.observe(outputEl, {childList: true});\n",
       "}}\n",
       "\n",
       "                        })                };                });            </script>        </div>"
      ]
     },
     "metadata": {},
     "output_type": "display_data"
    }
   ],
   "source": [
    "# Sample data (replace with df_pred)\n",
    "df = df_pred[:20].copy()\n",
    "num_frames = len(df)\n",
    "\n",
    "# Create figure\n",
    "fig = go.Figure()\n",
    "\n",
    "# Add initial frame (empty)\n",
    "fig.add_trace(go.Scatter(\n",
    "    x=[], y=[], mode='markers', marker=dict(color='red', size=8), name=\"True Position\"\n",
    "))\n",
    "fig.add_trace(go.Scatter(\n",
    "    x=[], y=[], mode='markers', marker=dict(color='blue', size=8), name=\"Predicted Position\"\n",
    "))\n",
    "\n",
    "# Define animation frames (only current frame's points)\n",
    "frames = [\n",
    "    go.Frame(\n",
    "        data=[\n",
    "            go.Scatter(x=[df[\"true_lon\"][k]], y=[df[\"true_lat\"][k]], mode='markers',\n",
    "                       marker=dict(color='red', size=10)),  # True position\n",
    "            go.Scatter(x=[df[\"pred_lon\"][k]], y=[df[\"pred_lat\"][k]], mode='markers',\n",
    "                       marker=dict(color='blue', size=10))  # Predicted position\n",
    "        ],\n",
    "        name=str(k)\n",
    "    )\n",
    "    for k in range(num_frames)\n",
    "]\n",
    "\n",
    "# Update figure layout with slider\n",
    "fig.update_layout(\n",
    "    title=\"Ship Position: True vs Predicted\",\n",
    "    xaxis_title=\"Longitude\",\n",
    "    yaxis_title=\"Latitude\",\n",
    "    xaxis=dict(range=[df[\"true_lon\"].min() - 0.01, df[\"true_lon\"].max() + 0.01]),\n",
    "    yaxis=dict(range=[df[\"true_lat\"].min() - 0.01, df[\"true_lat\"].max() + 0.01]),\n",
    "    updatemenus=[\n",
    "        {\n",
    "            \"buttons\": [\n",
    "                {\"args\": [None, {\"frame\": {\"duration\": 200, \"redraw\": True}, \"fromcurrent\": True}],\n",
    "                 \"label\": \"Play\", \"method\": \"animate\"},\n",
    "                {\"args\": [[None], {\"frame\": {\"duration\": 0}, \"mode\": \"immediate\", \"redraw\": True}],\n",
    "                 \"label\": \"Pause\", \"method\": \"animate\"}\n",
    "            ],\n",
    "            \"direction\": \"left\",\n",
    "            \"pad\": {\"r\": 10, \"t\": 87},\n",
    "            \"showactive\": False,\n",
    "            \"type\": \"buttons\"\n",
    "        }\n",
    "    ],\n",
    "    sliders=[{\n",
    "        \"active\": 0,\n",
    "        \"steps\": [\n",
    "            {\"args\": [[str(k)], {\"frame\": {\"duration\": 0}, \"mode\": \"immediate\", \"redraw\": True}],\n",
    "             \"label\": str(k), \"method\": \"animate\"}\n",
    "            for k in range(num_frames)\n",
    "        ]\n",
    "    }]\n",
    ")\n",
    "\n",
    "# Assign frames properly\n",
    "fig.frames = frames\n",
    "\n",
    "# Show plot\n",
    "fig.show()"
   ]
  },
  {
   "cell_type": "code",
   "execution_count": null,
   "id": "97b9eedc-d232-4c08-a318-ccf8df6c2a3f",
   "metadata": {},
   "outputs": [],
   "source": []
  }
 ],
 "metadata": {
  "kernelspec": {
   "display_name": "Python [conda env:base] *",
   "language": "python",
   "name": "conda-base-py"
  },
  "language_info": {
   "codemirror_mode": {
    "name": "ipython",
    "version": 3
   },
   "file_extension": ".py",
   "mimetype": "text/x-python",
   "name": "python",
   "nbconvert_exporter": "python",
   "pygments_lexer": "ipython3",
   "version": "3.12.7"
  }
 },
 "nbformat": 4,
 "nbformat_minor": 5
}
